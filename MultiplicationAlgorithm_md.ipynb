{
  "nbformat": 4,
  "nbformat_minor": 0,
  "metadata": {
    "colab": {
      "provenance": [],
      "authorship_tag": "ABX9TyMrFSJMu/Bl1oeRlpo+WmeV",
      "include_colab_link": true
    },
    "kernelspec": {
      "name": "python3",
      "display_name": "Python 3"
    },
    "language_info": {
      "name": "python"
    }
  },
  "cells": [
    {
      "cell_type": "markdown",
      "metadata": {
        "id": "view-in-github",
        "colab_type": "text"
      },
      "source": [
        "<a href=\"https://colab.research.google.com/github/yasmensarhan27/23-Homework1G4/blob/Homework-1/MultiplicationAlgorithm_md.ipynb\" target=\"_parent\"><img src=\"https://colab.research.google.com/assets/colab-badge.svg\" alt=\"Open In Colab\"/></a>"
      ]
    },
    {
      "cell_type": "code",
      "execution_count": null,
      "metadata": {
        "id": "kiDWAVr7yrYD"
      },
      "outputs": [],
      "source": [
        "##Algorithm for the Multiplication using Quantum Computers:\n",
        "\n",
        "#How the Multiplication will return:\n",
        "#for Classical Multiplication on Classical Computers:\n",
        "let's say I'd Multiply 2*2, first this 2 in Binary will be 1 0; hence, the multiplication of 1 0 * 1 0 = 1 0 0 which equals 4.\n",
        "\n",
        "So for the classical multiplications on a QC:\n",
        "if i have a state |0> and a state |1> multiplied it will reflect |000>\n",
        "  |1> and a state |1> multiplied will return: |001>\n",
        "\n"
      ]
    }
  ]
}